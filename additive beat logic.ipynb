{
 "cells": [
  {
   "cell_type": "code",
   "execution_count": 9,
   "metadata": {},
   "outputs": [
    {
     "name": "stdout",
     "output_type": "stream",
     "text": [
      "0 1 480 240.0 960.0\n",
      "1 2 960 480.0 480.0\n",
      "options: [480, 480, 480, 240, 960, 960, 240, 480, 480]\n",
      "kick pattern: [480, 480, 960, 960, 960, 240, 960, 480, 960, 480]\n"
     ]
    }
   ],
   "source": [
    "import random\n",
    "\n",
    "kick = []\n",
    "base = int(480)\n",
    "depth = 2\n",
    "options = [base]\n",
    "\n",
    "for j in range(depth) :\n",
    "    i = j+1\n",
    "    additional = int(base*i)\n",
    "    options.append(additional)\n",
    "    additional = int(base/i)\n",
    "    options.append(additional)\n",
    "    additional = int(base*(i/2))\n",
    "    options.append(additional)\n",
    "    additional = int(base/(i/2))\n",
    "    options.append(additional)\n",
    "    print(j, i, base*i, base*(i/2), base/(i/2), )\n",
    "\n",
    "print('options:',options)\n",
    "\n",
    "for i in range(10) :\n",
    "    next_beat = random.randint(1,len(options)) - 1\n",
    "    kick.append(options[next_beat])\n",
    "\n",
    "print('kick pattern:',kick)"
   ]
  },
  {
   "cell_type": "code",
   "execution_count": 41,
   "metadata": {},
   "outputs": [
    {
     "data": {
      "text/plain": [
       "array([3, 2, 2, 6, 4, 2, 4, 8, 6, 8, 2, 1, 4, 6, 5, 1, 3, 3, 2, 4, 3, 3,\n",
       "       6, 6, 4, 8, 2, 4, 1, 1, 3, 4, 1, 4, 5, 1, 3, 2, 0, 7, 3, 3, 3, 3,\n",
       "       1, 6, 3, 5, 6, 6, 7, 2, 4, 6, 1, 0, 3, 5, 3, 3, 1, 2, 8, 4, 4, 4,\n",
       "       2, 4, 6, 5, 3, 5, 5, 4, 5, 1, 2, 4, 5, 9, 4, 2, 5, 8, 8, 4, 2, 7,\n",
       "       4, 2, 1, 3, 3, 2, 5, 4, 7, 7, 3, 2])"
      ]
     },
     "execution_count": 41,
     "metadata": {},
     "output_type": "execute_result"
    }
   ],
   "source": [
    "np.random.poisson(lam=4, size=100)"
   ]
  },
  {
   "cell_type": "code",
   "execution_count": 73,
   "metadata": {},
   "outputs": [
    {
     "name": "stdout",
     "output_type": "stream",
     "text": [
      "original timings: [0, 960, 960, 960, 960, 960, 960, 960, 960]\n",
      "updated timings: [0, 960, 960, 240, 240, 960, 80, 120, 120, 120, 80, 80, 960, 960, 960, 960, 960]\n"
     ]
    }
   ],
   "source": [
    "import numpy as np\n",
    "\n",
    "PX_CHANGE_HIT = 0.4\n",
    "DEPTH = 7\n",
    "REPEATER = 2 # lambda for the poison dist\n",
    "BEAT = 480\n",
    "timings = [0, 960, 960, 960, 960, 960, 960, 960, 960]\n",
    "\n",
    "print(f\"original timings: {timings}\")\n",
    "# make a list of amounts to CHANGE hit timings by to \n",
    "# sample randomly from, based on depth\n",
    "perturbances = []\n",
    "\n",
    "for i in range(2, DEPTH+2):\n",
    "    timing_perturb = int(BEAT / i)\n",
    "    perturbances.append(timing_perturb)\n",
    "\n",
    "\n",
    "# roll a random distributition for every \n",
    "# current drum hit, perturb those below the probability threshold\n",
    "px_vec = np.random.random(len(timings)-1)\n",
    "indices_to_perturb = np.argwhere(px_vec < PX_CHANGE_HIT).ravel()\n",
    "\n",
    "\n",
    "for idx in indices_to_perturb:\n",
    "    # randomly sample from the 'perturnaces'\n",
    "    random_perturb = np.random.choice(perturbances, 1)[0]\n",
    "    n_reps = np.random.poisson(REPEATER)\n",
    "    timings = timings[0:idx] + ([random_perturb] * n_reps) + timings[idx:]\n",
    "    \n",
    "print(f\"updated timings: {timings}\")\n",
    "    \n",
    "\n",
    "    \n",
    "\n"
   ]
  },
  {
   "cell_type": "code",
   "execution_count": null,
   "metadata": {},
   "outputs": [],
   "source": []
  }
 ],
 "metadata": {
  "kernelspec": {
   "display_name": "Python 3",
   "language": "python",
   "name": "python3"
  },
  "language_info": {
   "codemirror_mode": {
    "name": "ipython",
    "version": 3
   },
   "file_extension": ".py",
   "mimetype": "text/x-python",
   "name": "python",
   "nbconvert_exporter": "python",
   "pygments_lexer": "ipython3",
   "version": "3.7.6"
  }
 },
 "nbformat": 4,
 "nbformat_minor": 4
}
